{
 "cells": [
  {
   "cell_type": "code",
   "execution_count": 1,
   "metadata": {},
   "outputs": [
    {
     "name": "stdout",
     "output_type": "stream",
     "text": [
      "The corridor splits in two, do you want to go left or right?left\n",
      "As you open the door the floor caves in and you fall to your death\n",
      "GAME OVER!!!\n",
      "Do you want to restart the game? Yes or Noyes\n",
      "Bye Bye\n"
     ]
    }
   ],
   "source": [
    "restart = \"Yes\"\n",
    "\n",
    "while restart == \"Yes\":\n",
    "    \n",
    "    choice = input(\"The corridor splits in two, do you want to go left or right?\")\n",
    "    \n",
    "    if choice == \"left\":\n",
    "        print(\"As you open the door the floor caves in and you fall to your death\")\n",
    "        print(\"GAME OVER!!!\")\n",
    "        restart = input(\"Do you want to restart the game? Yes or No\")\n",
    "        \n",
    "    elif choice == \"right\":\n",
    "        print(\"The door leads you in to a dragons lair, fight the dragon or run?\")\n",
    "\n",
    "print(\"Bye Bye\")"
   ]
  },
  {
   "cell_type": "code",
   "execution_count": null,
   "metadata": {},
   "outputs": [],
   "source": []
  }
 ],
 "metadata": {
  "kernelspec": {
   "display_name": "Python 3",
   "language": "python",
   "name": "python3"
  },
  "language_info": {
   "codemirror_mode": {
    "name": "ipython",
    "version": 3
   },
   "file_extension": ".py",
   "mimetype": "text/x-python",
   "name": "python",
   "nbconvert_exporter": "python",
   "pygments_lexer": "ipython3",
   "version": "3.7.0"
  }
 },
 "nbformat": 4,
 "nbformat_minor": 2
}
